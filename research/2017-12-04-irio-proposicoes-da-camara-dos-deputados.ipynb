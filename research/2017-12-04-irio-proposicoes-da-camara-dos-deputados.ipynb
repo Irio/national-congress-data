{
 "cells": [
  {
   "cell_type": "markdown",
   "metadata": {},
   "source": [
    "## Carregar o arquivo XML em um Pandas DataFrame"
   ]
  },
  {
   "cell_type": "code",
   "execution_count": 1,
   "metadata": {},
   "outputs": [],
   "source": [
    "import datetime\n",
    "import json\n",
    "import pandas as pd\n",
    "import xmltodict\n",
    "\n",
    "propositions = pd.DataFrame()\n",
    "\n",
    "for year in range(1946, datetime.datetime.now().year + 1):\n",
    "    path = '../data/sources/propositions/{}.xml'.format(year)\n",
    "    with open(path) as file:\n",
    "        contents = file.read()\n",
    "    contents = xmltodict.parse(contents)\n",
    "    contents = [pd.Series(dict(x))\n",
    "                for x in contents['proposicoes']['proposicao']]\n",
    "    contents = pd.DataFrame(contents)\n",
    "    propositions = propositions.append(contents)"
   ]
  },
  {
   "cell_type": "code",
   "execution_count": 2,
   "metadata": {},
   "outputs": [],
   "source": [
    "dict_cols = [\n",
    "    'apreciacao',\n",
    "    'autor1',\n",
    "    'orgaoNumerador',\n",
    "    'regime',\n",
    "    'situacao',\n",
    "    'tipoProposicao',\n",
    "    'ultimoDespacho',\n",
    "]\n",
    "\n",
    "def dict_to_multiple_series(row, cols):\n",
    "    for col, value in row[cols].items():\n",
    "        series = pd.Series(dict(value))\n",
    "        series.index = ['{}_{}'.format(col, x) for x in series.index]\n",
    "        row = row.append(series)\n",
    "    return row.drop(cols)\n",
    "\n",
    "propositions = propositions \\\n",
    "    .apply(lambda row: dict_to_multiple_series(row, cols=dict_cols), axis=1)\n",
    "\n",
    "dict_cols = [\n",
    "    'situacao_orgao',\n",
    "    'situacao_principal',\n",
    "]\n",
    "propositions = propositions \\\n",
    "    .apply(lambda row: dict_to_multiple_series(row, cols=dict_cols), axis=1)"
   ]
  },
  {
   "cell_type": "code",
   "execution_count": 3,
   "metadata": {},
   "outputs": [],
   "source": [
    "cols = {\n",
    "    'autor1_codPartido': 'category',\n",
    "    'autor1_idecadastro': 'category',\n",
    "    'autor1_txtNomeAutor': 'category',\n",
    "    'autor1_txtSiglaPartido': 'category',\n",
    "    'autor1_txtSiglaUF': 'category',\n",
    "    'orgaoNumerador_id': 'category',\n",
    "    'orgaoNumerador_nome': 'category',\n",
    "    'orgaoNumerador_sigla': 'category',\n",
    "    'qtdAutores': 'int',\n",
    "    'qtdOrgaosComEstado': 'int',\n",
    "    'regime_codRegime': 'category',\n",
    "    'regime_txtRegime': 'category',\n",
    "    'situacao_descricao': 'category',\n",
    "    'situacao_id': 'category',\n",
    "    'tipoProposicao_id': 'category',\n",
    "    'tipoProposicao_nome': 'category',\n",
    "    'tipoProposicao_sigla': 'category',\n",
    "    'situacao_orgao_codOrgaoEstado': 'category',\n",
    "    'situacao_orgao_siglaOrgaoEstado': 'category',\n",
    "    'situacao_principal_codProposicaoPrincipal': 'category',\n",
    "    'situacao_principal_proposicaoPrincipal': 'category',\n",
    "}\n",
    "\n",
    "for col, col_type in cols.items():\n",
    "    propositions[col] = propositions[col].astype(col_type)"
   ]
  },
  {
   "cell_type": "code",
   "execution_count": 4,
   "metadata": {},
   "outputs": [],
   "source": [
    "datetime_cols = [\n",
    "    'datApresentacao',\n",
    "    'ultimoDespacho_datDespacho',\n",
    "]\n",
    "\n",
    "for col in datetime_cols:\n",
    "    propositions[col] = pd.to_datetime(propositions[col], dayfirst=True)"
   ]
  },
  {
   "cell_type": "code",
   "execution_count": 5,
   "metadata": {},
   "outputs": [],
   "source": [
    "import numpy as np\n",
    "\n",
    "str_cols = [\n",
    "    'apreciacao_txtApreciacao',\n",
    "    'regime_txtRegime',\n",
    "]\n",
    "\n",
    "propositions.loc[:, str_cols] = propositions[str_cols].replace('.', np.nan)"
   ]
  },
  {
   "cell_type": "code",
   "execution_count": 6,
   "metadata": {
    "scrolled": false
   },
   "outputs": [
    {
     "data": {
      "text/plain": [
       "{'ano': '1946',\n",
       " 'apreciacao_id': '99',\n",
       " 'apreciacao_txtApreciacao': nan,\n",
       " 'autor1_codPartido': nan,\n",
       " 'autor1_idecadastro': nan,\n",
       " 'autor1_txtNomeAutor': 'Poder Executivo',\n",
       " 'autor1_txtSiglaPartido': nan,\n",
       " 'autor1_txtSiglaUF': nan,\n",
       " 'datApresentacao': Timestamp('1947-01-31 17:43:00'),\n",
       " 'id': '529061',\n",
       " 'indGenero': 'o',\n",
       " 'nome': 'PL 239/1946',\n",
       " 'numero': '239',\n",
       " 'orgaoNumerador_id': '180',\n",
       " 'orgaoNumerador_nome': 'PLENÁRIO',\n",
       " 'orgaoNumerador_sigla': 'PLEN',\n",
       " 'qtdAutores': 1,\n",
       " 'qtdOrgaosComEstado': 1,\n",
       " 'regime_codRegime': '99',\n",
       " 'regime_txtRegime': nan,\n",
       " 'situacao_descricao': 'Transformado em Norma Jurídica',\n",
       " 'situacao_id': '1140',\n",
       " 'situacao_orgao_codOrgaoEstado': '4',\n",
       " 'situacao_orgao_siglaOrgaoEstado': 'MESA',\n",
       " 'situacao_principal_codProposicaoPrincipal': '0',\n",
       " 'situacao_principal_proposicaoPrincipal': nan,\n",
       " 'tipoProposicao_id': '139',\n",
       " 'tipoProposicao_nome': 'Projeto de Lei',\n",
       " 'tipoProposicao_sigla': 'PL',\n",
       " 'txtEmenta': 'TRANSFERE PARA O TESOURO NACIONAL PARTE DAS EMISSÕES FEITAS PARA ATENDER ÀS OPERAÇÕES DA CARTEIRA DE REDESCONTO DO BANCO DO BRASIL, MEDIANTE RESGATE DE DÉBITOS DO TESOURO NACIONAL AO BANCO DO BRASIL.',\n",
       " 'txtExplicacaoEmenta': None,\n",
       " 'ultimoDespacho_datDespacho': NaT,\n",
       " 'ultimoDespacho_txtDespacho': None}"
      ]
     },
     "execution_count": 6,
     "metadata": {},
     "output_type": "execute_result"
    }
   ],
   "source": [
    "propositions.iloc[0].to_dict()"
   ]
  },
  {
   "cell_type": "code",
   "execution_count": 7,
   "metadata": {
    "scrolled": true
   },
   "outputs": [],
   "source": [
    "cols = {\n",
    "    'ano': 'year',\n",
    "    'apreciacao_id': 'assessment_id',\n",
    "    'apreciacao_txtApreciacao': 'assessment',\n",
    "    'autor1_codPartido': 'author_party_id',\n",
    "    'autor1_idecadastro': 'author_id',\n",
    "    'autor1_txtNomeAutor': 'author',\n",
    "    'autor1_txtSiglaPartido': 'author_party',\n",
    "    'autor1_txtSiglaUF': 'author_state',\n",
    "    'datApresentacao': 'presented_at',\n",
    "#     'indGenero': '???',\n",
    "    'nome': 'name',\n",
    "    'numero': 'number',\n",
    "    'orgaoNumerador_id': 'board_id',\n",
    "    'orgaoNumerador_nome': 'board_name',\n",
    "    'orgaoNumerador_sigla': 'board',\n",
    "    'qtdAutores': 'authors',\n",
    "    'qtdOrgaosComEstado': 'agencies',\n",
    "    'regime_codRegime': 'regimen_id',\n",
    "    'regime_txtRegime': 'regimen',\n",
    "    'situacao_descricao': 'status',\n",
    "    'situacao_id': 'status_id',\n",
    "    'situacao_orgao_codOrgaoEstado': 'status_agency_id',\n",
    "    'situacao_orgao_siglaOrgaoEstado': 'status_agency',\n",
    "    'situacao_principal_codProposicaoPrincipal': 'status_proposition_id',\n",
    "    'situacao_principal_proposicaoPrincipal': 'status_proposition',\n",
    "    'tipoProposicao_id': 'type_id',\n",
    "    'tipoProposicao_nome': 'type_name',\n",
    "    'tipoProposicao_sigla': 'type',\n",
    "    'txtEmenta': 'summary',\n",
    "    'txtExplicacaoEmenta': 'reasoning',\n",
    "    'ultimoDespacho_datDespacho': 'updated_at',\n",
    "    'ultimoDespacho_txtDespacho': 'last_update_destination',\n",
    "}\n",
    "\n",
    "cols_to_drop = [\n",
    "    'assessment_id',\n",
    "    'author_id',\n",
    "    'author_party_id',\n",
    "    'board_id',\n",
    "    'board_name',\n",
    "    'indGenero',\n",
    "    'name',\n",
    "    'regimen_id',\n",
    "    'status_agency_id',\n",
    "    'status_id',\n",
    "    'status_proposition_id',\n",
    "    'type_id',\n",
    "    'type_name',\n",
    "]\n",
    "\n",
    "propositions = propositions \\\n",
    "    .rename(columns=cols) \\\n",
    "    .drop(cols_to_drop, axis=1)"
   ]
  },
  {
   "cell_type": "code",
   "execution_count": 8,
   "metadata": {},
   "outputs": [
    {
     "data": {
      "text/plain": [
       "{'agencies': 1,\n",
       " 'assessment': nan,\n",
       " 'author': 'Poder Executivo',\n",
       " 'author_party': nan,\n",
       " 'author_state': nan,\n",
       " 'authors': 1,\n",
       " 'board': 'PLEN',\n",
       " 'id': '529061',\n",
       " 'last_update_destination': None,\n",
       " 'number': '239',\n",
       " 'presented_at': Timestamp('1947-01-31 17:43:00'),\n",
       " 'reasoning': None,\n",
       " 'regimen': nan,\n",
       " 'status': 'Transformado em Norma Jurídica',\n",
       " 'status_agency': 'MESA',\n",
       " 'status_proposition': nan,\n",
       " 'summary': 'TRANSFERE PARA O TESOURO NACIONAL PARTE DAS EMISSÕES FEITAS PARA ATENDER ÀS OPERAÇÕES DA CARTEIRA DE REDESCONTO DO BANCO DO BRASIL, MEDIANTE RESGATE DE DÉBITOS DO TESOURO NACIONAL AO BANCO DO BRASIL.',\n",
       " 'type': 'PL',\n",
       " 'updated_at': NaT,\n",
       " 'year': '1946'}"
      ]
     },
     "execution_count": 8,
     "metadata": {},
     "output_type": "execute_result"
    }
   ],
   "source": [
    "propositions.iloc[0].to_dict()"
   ]
  },
  {
   "cell_type": "code",
   "execution_count": 9,
   "metadata": {},
   "outputs": [],
   "source": [
    "propositions.to_csv('../data/chamber_of_deputies_propositions.csv', index=False)"
   ]
  },
  {
   "cell_type": "code",
   "execution_count": null,
   "metadata": {},
   "outputs": [],
   "source": []
  }
 ],
 "metadata": {
  "kernelspec": {
   "display_name": "Python 3",
   "language": "python",
   "name": "python3"
  },
  "language_info": {
   "codemirror_mode": {
    "name": "ipython",
    "version": 3
   },
   "file_extension": ".py",
   "mimetype": "text/x-python",
   "name": "python",
   "nbconvert_exporter": "python",
   "pygments_lexer": "ipython3",
   "version": "3.6.3"
  }
 },
 "nbformat": 4,
 "nbformat_minor": 2
}
